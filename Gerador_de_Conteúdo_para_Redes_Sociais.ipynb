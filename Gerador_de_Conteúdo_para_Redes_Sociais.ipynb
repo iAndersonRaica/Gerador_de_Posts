{
  "nbformat": 4,
  "nbformat_minor": 0,
  "metadata": {
    "colab": {
      "provenance": [],
      "authorship_tag": "ABX9TyNdPxSxZX3wiIQLmOuQE9Um",
      "include_colab_link": true
    },
    "kernelspec": {
      "name": "python3",
      "display_name": "Python 3"
    },
    "language_info": {
      "name": "python"
    }
  },
  "cells": [
    {
      "cell_type": "markdown",
      "metadata": {
        "id": "view-in-github",
        "colab_type": "text"
      },
      "source": [
        "<a href=\"https://colab.research.google.com/github/iAndersonRaica/Gerador_de_Posts/blob/main/Gerador_de_Conte%C3%BAdo_para_Redes_Sociais.ipynb\" target=\"_parent\"><img src=\"https://colab.research.google.com/assets/colab-badge.svg\" alt=\"Open In Colab\"/></a>"
      ]
    },
    {
      "cell_type": "markdown",
      "source": [
        "Instalação da biblioteca do GEMINI"
      ],
      "metadata": {
        "id": "dHMuCauZLwX9"
      }
    },
    {
      "cell_type": "code",
      "execution_count": 1,
      "metadata": {
        "id": "kT9z2DOxLZS6"
      },
      "outputs": [],
      "source": [
        "!pip install -q -U google-generativeai"
      ]
    },
    {
      "cell_type": "markdown",
      "source": [
        "Importação da biblioteca do GEMINI"
      ],
      "metadata": {
        "id": "7dxKE6c0LxfB"
      }
    },
    {
      "cell_type": "code",
      "source": [
        "import google.generativeai as genai"
      ],
      "metadata": {
        "id": "Y06FW50iLdWL"
      },
      "execution_count": 2,
      "outputs": []
    },
    {
      "cell_type": "markdown",
      "source": [
        "Protegendo API"
      ],
      "metadata": {
        "id": "5ohKtUMYv-6u"
      }
    },
    {
      "cell_type": "code",
      "source": [
        "from google.colab import userdata\n",
        "GOOGLE_API_KEY=userdata.get(\"SECRET_KEY\")"
      ],
      "metadata": {
        "id": "Z94Dv9RqwB76"
      },
      "execution_count": 3,
      "outputs": []
    },
    {
      "cell_type": "markdown",
      "source": [
        "Criando um cliente do GEMINI"
      ],
      "metadata": {
        "id": "jTbnrNLpLxoU"
      }
    },
    {
      "cell_type": "code",
      "source": [
        "genai.configure(api_key=GOOGLE_API_KEY)"
      ],
      "metadata": {
        "id": "BGaAYKKUMH9C"
      },
      "execution_count": 4,
      "outputs": []
    },
    {
      "cell_type": "markdown",
      "source": [
        "Verificando modelos e versões do GEMINI"
      ],
      "metadata": {
        "id": "p_5DEgTDLxv4"
      }
    },
    {
      "cell_type": "code",
      "source": [
        "for m in genai.list_models(): # fazendo uma interação dentro da lista de modelos do GEMINI\n",
        "  if \"generateContent\" in m.supported_generation_methods:\n",
        "    print(m.name)"
      ],
      "metadata": {
        "colab": {
          "base_uri": "https://localhost:8080/",
          "height": 139
        },
        "id": "NTCwoJhVMZKo",
        "outputId": "b7d1c7b3-26f2-4b8c-c0db-4d601342a91a"
      },
      "execution_count": 5,
      "outputs": [
        {
          "output_type": "stream",
          "name": "stdout",
          "text": [
            "models/gemini-1.0-pro\n",
            "models/gemini-1.0-pro-001\n",
            "models/gemini-1.0-pro-latest\n",
            "models/gemini-1.0-pro-vision-latest\n",
            "models/gemini-1.5-pro-latest\n",
            "models/gemini-pro\n",
            "models/gemini-pro-vision\n"
          ]
        }
      ]
    },
    {
      "cell_type": "markdown",
      "source": [
        "Criando variável com setup do parâmetros no GEMINI para ser mais CRIATIVO (Temperatura 0,8)"
      ],
      "metadata": {
        "id": "TFtW1CjHOB_x"
      }
    },
    {
      "cell_type": "code",
      "source": [
        "generation_config = {\n",
        "  \"candidate_count\": 1,\n",
        "  \"temperature\": 0.8,\n",
        "}"
      ],
      "metadata": {
        "id": "KZJKbnMbN1ZS"
      },
      "execution_count": 6,
      "outputs": []
    },
    {
      "cell_type": "markdown",
      "source": [
        "Criando variável de setup de segurança no GEMINI | Filtro no nível médio para conteúdos não permitidos"
      ],
      "metadata": {
        "id": "eQK5qxaSOPHF"
      }
    },
    {
      "cell_type": "code",
      "source": [
        "safety_settings={\n",
        "    'HATE': 'medium',\n",
        "    'HARASSMENT': 'medium',\n",
        "    'SEXUAL' : 'medium',\n",
        "    'DANGEROUS' : 'medium'\n",
        "    }"
      ],
      "metadata": {
        "id": "57saDTm8OVb1"
      },
      "execution_count": 7,
      "outputs": []
    },
    {
      "cell_type": "markdown",
      "source": [
        "Inicializando Modelo 1.0 (mais estável)"
      ],
      "metadata": {
        "id": "eL-vMncFPvTq"
      }
    },
    {
      "cell_type": "code",
      "source": [
        "model = genai.GenerativeModel(model_name='gemini-1.0-pro',\n",
        "                                  generation_config=generation_config,\n",
        "                                  safety_settings=safety_settings,)"
      ],
      "metadata": {
        "id": "Oqa6Cvyz0oxb"
      },
      "execution_count": 8,
      "outputs": []
    },
    {
      "cell_type": "markdown",
      "source": [
        "Entrada de informação: tipo_de_conteudo"
      ],
      "metadata": {
        "id": "vSkqQkmRdonA"
      }
    },
    {
      "cell_type": "code",
      "source": [
        "chat = model.start_chat(history=[])"
      ],
      "metadata": {
        "id": "plg_u1ePFlGs"
      },
      "execution_count": 9,
      "outputs": []
    },
    {
      "cell_type": "markdown",
      "source": [
        "Constriundo o histórico do chat"
      ],
      "metadata": {
        "id": "W996PPNIhTXn"
      }
    },
    {
      "cell_type": "code",
      "source": [
        "tipo_de_conteudo = input(\"Digite qual é o tipo de conteúdo que você publica: \")\n",
        "print(tipo_de_conteudo)"
      ],
      "metadata": {
        "id": "5ZnpgOFNdshj",
        "colab": {
          "base_uri": "https://localhost:8080/"
        },
        "outputId": "1a989f27-782e-4b60-c423-02729a3266e4"
      },
      "execution_count": 10,
      "outputs": [
        {
          "output_type": "stream",
          "name": "stdout",
          "text": [
            "Digite qual é o tipo de conteúdo que você publica: culinária\n",
            "culinária\n"
          ]
        }
      ]
    },
    {
      "cell_type": "code",
      "source": [
        "prompt = f\"\"\"\n",
        "Quero que você aja como um grande especialista em pesquisa sobre audiências, seu trabalho é entender exatamente sobre determinados grupos de pessoas./n/n\n",
        "Encontre o perfil ideal das pessoas que consomem e se engajam com conteúdo de {tipo_de_conteudo} nas redes sociais no Brasil./n/n\n",
        "Monte uma tabela com os dados demográficos do perfil ideal informado anteriormente com 2 colunas, onde na primeira coluna está o tipo de informação e na segunda os dados. As informações devem conter no mínimo faixa de idade, porcentagem de gênero, faixa salarial e outras e na última linha coloque a informação sobre as redes sociais mais acessadas por esse perfil em porcentagem./n/n\n",
        "\"\"\"\n",
        "\n",
        "print(prompt)"
      ],
      "metadata": {
        "id": "Dfqy3VSAYmJy",
        "colab": {
          "base_uri": "https://localhost:8080/"
        },
        "outputId": "e6378870-a2fd-4b8d-f5fb-97c60c33ff9a"
      },
      "execution_count": 11,
      "outputs": [
        {
          "output_type": "stream",
          "name": "stdout",
          "text": [
            "\n",
            "Quero que você aja como um grande especialista em pesquisa sobre audiências, seu trabalho é entender exatamente sobre determinados grupos de pessoas./n/n\n",
            "Encontre o perfil ideal das pessoas que consomem e se engajam com conteúdo de culinária nas redes sociais no Brasil./n/n\n",
            "Monte uma tabela com os dados demográficos do perfil ideal informado anteriormente com 2 colunas, onde na primeira coluna está o tipo de informação e na segunda os dados. As informações devem conter no mínimo faixa de idade, porcentagem de gênero, faixa salarial e outras e na última linha coloque a informação sobre as redes sociais mais acessadas por esse perfil em porcentagem./n/n\n",
            "\n"
          ]
        }
      ]
    },
    {
      "cell_type": "code",
      "source": [
        "response = model.generate_content(prompt)"
      ],
      "metadata": {
        "id": "S9lajIJk6sm0"
      },
      "execution_count": 12,
      "outputs": []
    },
    {
      "cell_type": "markdown",
      "source": [
        "Importando pandas para transformar string em dados"
      ],
      "metadata": {
        "id": "8AOU06MusTbb"
      }
    },
    {
      "cell_type": "code",
      "source": [
        "import pandas as pd\n",
        "from io import StringIO"
      ],
      "metadata": {
        "id": "K_GRjZ6fsK6H"
      },
      "execution_count": 15,
      "outputs": []
    },
    {
      "cell_type": "code",
      "source": [
        "data = StringIO(resposta)\n",
        "df_perfil = pd.read_csv(data, sep=\"|\")"
      ],
      "metadata": {
        "id": "HwuAWMtYsggI"
      },
      "execution_count": 21,
      "outputs": []
    },
    {
      "cell_type": "code",
      "source": [
        "display(df_perfil)"
      ],
      "metadata": {
        "id": "TzUcJC0cF91Q",
        "colab": {
          "base_uri": "https://localhost:8080/",
          "height": 652
        },
        "outputId": "0055349d-96e3-4923-952f-4877460f279a"
      },
      "execution_count": 22,
      "outputs": [
        {
          "output_type": "display_data",
          "data": {
            "text/plain": [
              "                                                                                                              **Perfil do Público-Alvo do Conteúdo de Culinária nas Redes Sociais no Brasil**\n",
              "NaN                               **Tipo de Informação**   **Dados**                                                                                        NaN                              \n",
              "                                 ---                      ---                                                                                               NaN                              \n",
              "                                  Idade                    25-44 anos                                                                                       NaN                              \n",
              "                                  Gênero                   60% mulheres, 40% homens                                                                         NaN                              \n",
              "                                  Renda                    R$ 2.000 - R$ 5.000                                                                              NaN                              \n",
              "                                  Nível de Educação        Superior completo ou incompleto                                                                  NaN                              \n",
              "                                  Ocupação                 Profissionais liberais, estudantes, donas de c...                                                NaN                              \n",
              "                                  Interesses               Gastronomia, receitas, dicas culinárias, resta...                                                NaN                              \n",
              "                                  Estilo de Vida           Ativos nas redes sociais, gostam de cozinhar e...                                                NaN                              \n",
              "**Redes Sociais Mais Acessadas** NaN                      NaN                                                                                               NaN                              \n",
              "NaN                               **Rede Social**          **Porcentagem**                                                                                  NaN                              \n",
              "                                 ---                      ---                                                                                               NaN                              \n",
              "                                  Instagram                80%                                                                                              NaN                              \n",
              "                                  YouTube                  70%                                                                                              NaN                              \n",
              "                                  Facebook                 60%                                                                                              NaN                              \n",
              "                                  Pinterest                50%                                                                                              NaN                              \n",
              "                                  TikTok                   40%                                                                                              NaN                              "
            ],
            "text/html": [
              "\n",
              "  <div id=\"df-2ca0e6cf-baee-4eb5-a968-9c23b77dbcba\" class=\"colab-df-container\">\n",
              "    <div>\n",
              "<style scoped>\n",
              "    .dataframe tbody tr th:only-of-type {\n",
              "        vertical-align: middle;\n",
              "    }\n",
              "\n",
              "    .dataframe tbody tr th {\n",
              "        vertical-align: top;\n",
              "    }\n",
              "\n",
              "    .dataframe thead th {\n",
              "        text-align: right;\n",
              "    }\n",
              "</style>\n",
              "<table border=\"1\" class=\"dataframe\">\n",
              "  <thead>\n",
              "    <tr style=\"text-align: right;\">\n",
              "      <th></th>\n",
              "      <th></th>\n",
              "      <th></th>\n",
              "      <th>**Perfil do Público-Alvo do Conteúdo de Culinária nas Redes Sociais no Brasil**</th>\n",
              "    </tr>\n",
              "  </thead>\n",
              "  <tbody>\n",
              "    <tr>\n",
              "      <th rowspan=\"9\" valign=\"top\">NaN</th>\n",
              "      <th>**Tipo de Informação**</th>\n",
              "      <th>**Dados**</th>\n",
              "      <td>NaN</td>\n",
              "    </tr>\n",
              "    <tr>\n",
              "      <th>---</th>\n",
              "      <th>---</th>\n",
              "      <td>NaN</td>\n",
              "    </tr>\n",
              "    <tr>\n",
              "      <th>Idade</th>\n",
              "      <th>25-44 anos</th>\n",
              "      <td>NaN</td>\n",
              "    </tr>\n",
              "    <tr>\n",
              "      <th>Gênero</th>\n",
              "      <th>60% mulheres, 40% homens</th>\n",
              "      <td>NaN</td>\n",
              "    </tr>\n",
              "    <tr>\n",
              "      <th>Renda</th>\n",
              "      <th>R$ 2.000 - R$ 5.000</th>\n",
              "      <td>NaN</td>\n",
              "    </tr>\n",
              "    <tr>\n",
              "      <th>Nível de Educação</th>\n",
              "      <th>Superior completo ou incompleto</th>\n",
              "      <td>NaN</td>\n",
              "    </tr>\n",
              "    <tr>\n",
              "      <th>Ocupação</th>\n",
              "      <th>Profissionais liberais, estudantes, donas de casa</th>\n",
              "      <td>NaN</td>\n",
              "    </tr>\n",
              "    <tr>\n",
              "      <th>Interesses</th>\n",
              "      <th>Gastronomia, receitas, dicas culinárias, restaurantes</th>\n",
              "      <td>NaN</td>\n",
              "    </tr>\n",
              "    <tr>\n",
              "      <th>Estilo de Vida</th>\n",
              "      <th>Ativos nas redes sociais, gostam de cozinhar e experimentar novos pratos</th>\n",
              "      <td>NaN</td>\n",
              "    </tr>\n",
              "    <tr>\n",
              "      <th>**Redes Sociais Mais Acessadas**</th>\n",
              "      <th>NaN</th>\n",
              "      <th>NaN</th>\n",
              "      <td>NaN</td>\n",
              "    </tr>\n",
              "    <tr>\n",
              "      <th rowspan=\"7\" valign=\"top\">NaN</th>\n",
              "      <th>**Rede Social**</th>\n",
              "      <th>**Porcentagem**</th>\n",
              "      <td>NaN</td>\n",
              "    </tr>\n",
              "    <tr>\n",
              "      <th>---</th>\n",
              "      <th>---</th>\n",
              "      <td>NaN</td>\n",
              "    </tr>\n",
              "    <tr>\n",
              "      <th>Instagram</th>\n",
              "      <th>80%</th>\n",
              "      <td>NaN</td>\n",
              "    </tr>\n",
              "    <tr>\n",
              "      <th>YouTube</th>\n",
              "      <th>70%</th>\n",
              "      <td>NaN</td>\n",
              "    </tr>\n",
              "    <tr>\n",
              "      <th>Facebook</th>\n",
              "      <th>60%</th>\n",
              "      <td>NaN</td>\n",
              "    </tr>\n",
              "    <tr>\n",
              "      <th>Pinterest</th>\n",
              "      <th>50%</th>\n",
              "      <td>NaN</td>\n",
              "    </tr>\n",
              "    <tr>\n",
              "      <th>TikTok</th>\n",
              "      <th>40%</th>\n",
              "      <td>NaN</td>\n",
              "    </tr>\n",
              "  </tbody>\n",
              "</table>\n",
              "</div>\n",
              "    <div class=\"colab-df-buttons\">\n",
              "\n",
              "  <div class=\"colab-df-container\">\n",
              "    <button class=\"colab-df-convert\" onclick=\"convertToInteractive('df-2ca0e6cf-baee-4eb5-a968-9c23b77dbcba')\"\n",
              "            title=\"Convert this dataframe to an interactive table.\"\n",
              "            style=\"display:none;\">\n",
              "\n",
              "  <svg xmlns=\"http://www.w3.org/2000/svg\" height=\"24px\" viewBox=\"0 -960 960 960\">\n",
              "    <path d=\"M120-120v-720h720v720H120Zm60-500h600v-160H180v160Zm220 220h160v-160H400v160Zm0 220h160v-160H400v160ZM180-400h160v-160H180v160Zm440 0h160v-160H620v160ZM180-180h160v-160H180v160Zm440 0h160v-160H620v160Z\"/>\n",
              "  </svg>\n",
              "    </button>\n",
              "\n",
              "  <style>\n",
              "    .colab-df-container {\n",
              "      display:flex;\n",
              "      gap: 12px;\n",
              "    }\n",
              "\n",
              "    .colab-df-convert {\n",
              "      background-color: #E8F0FE;\n",
              "      border: none;\n",
              "      border-radius: 50%;\n",
              "      cursor: pointer;\n",
              "      display: none;\n",
              "      fill: #1967D2;\n",
              "      height: 32px;\n",
              "      padding: 0 0 0 0;\n",
              "      width: 32px;\n",
              "    }\n",
              "\n",
              "    .colab-df-convert:hover {\n",
              "      background-color: #E2EBFA;\n",
              "      box-shadow: 0px 1px 2px rgba(60, 64, 67, 0.3), 0px 1px 3px 1px rgba(60, 64, 67, 0.15);\n",
              "      fill: #174EA6;\n",
              "    }\n",
              "\n",
              "    .colab-df-buttons div {\n",
              "      margin-bottom: 4px;\n",
              "    }\n",
              "\n",
              "    [theme=dark] .colab-df-convert {\n",
              "      background-color: #3B4455;\n",
              "      fill: #D2E3FC;\n",
              "    }\n",
              "\n",
              "    [theme=dark] .colab-df-convert:hover {\n",
              "      background-color: #434B5C;\n",
              "      box-shadow: 0px 1px 3px 1px rgba(0, 0, 0, 0.15);\n",
              "      filter: drop-shadow(0px 1px 2px rgba(0, 0, 0, 0.3));\n",
              "      fill: #FFFFFF;\n",
              "    }\n",
              "  </style>\n",
              "\n",
              "    <script>\n",
              "      const buttonEl =\n",
              "        document.querySelector('#df-2ca0e6cf-baee-4eb5-a968-9c23b77dbcba button.colab-df-convert');\n",
              "      buttonEl.style.display =\n",
              "        google.colab.kernel.accessAllowed ? 'block' : 'none';\n",
              "\n",
              "      async function convertToInteractive(key) {\n",
              "        const element = document.querySelector('#df-2ca0e6cf-baee-4eb5-a968-9c23b77dbcba');\n",
              "        const dataTable =\n",
              "          await google.colab.kernel.invokeFunction('convertToInteractive',\n",
              "                                                    [key], {});\n",
              "        if (!dataTable) return;\n",
              "\n",
              "        const docLinkHtml = 'Like what you see? Visit the ' +\n",
              "          '<a target=\"_blank\" href=https://colab.research.google.com/notebooks/data_table.ipynb>data table notebook</a>'\n",
              "          + ' to learn more about interactive tables.';\n",
              "        element.innerHTML = '';\n",
              "        dataTable['output_type'] = 'display_data';\n",
              "        await google.colab.output.renderOutput(dataTable, element);\n",
              "        const docLink = document.createElement('div');\n",
              "        docLink.innerHTML = docLinkHtml;\n",
              "        element.appendChild(docLink);\n",
              "      }\n",
              "    </script>\n",
              "  </div>\n",
              "\n",
              "\n",
              "<div id=\"df-30323b73-b20a-4af8-accd-d28a4e2324e4\">\n",
              "  <button class=\"colab-df-quickchart\" onclick=\"quickchart('df-30323b73-b20a-4af8-accd-d28a4e2324e4')\"\n",
              "            title=\"Suggest charts\"\n",
              "            style=\"display:none;\">\n",
              "\n",
              "<svg xmlns=\"http://www.w3.org/2000/svg\" height=\"24px\"viewBox=\"0 0 24 24\"\n",
              "     width=\"24px\">\n",
              "    <g>\n",
              "        <path d=\"M19 3H5c-1.1 0-2 .9-2 2v14c0 1.1.9 2 2 2h14c1.1 0 2-.9 2-2V5c0-1.1-.9-2-2-2zM9 17H7v-7h2v7zm4 0h-2V7h2v10zm4 0h-2v-4h2v4z\"/>\n",
              "    </g>\n",
              "</svg>\n",
              "  </button>\n",
              "\n",
              "<style>\n",
              "  .colab-df-quickchart {\n",
              "      --bg-color: #E8F0FE;\n",
              "      --fill-color: #1967D2;\n",
              "      --hover-bg-color: #E2EBFA;\n",
              "      --hover-fill-color: #174EA6;\n",
              "      --disabled-fill-color: #AAA;\n",
              "      --disabled-bg-color: #DDD;\n",
              "  }\n",
              "\n",
              "  [theme=dark] .colab-df-quickchart {\n",
              "      --bg-color: #3B4455;\n",
              "      --fill-color: #D2E3FC;\n",
              "      --hover-bg-color: #434B5C;\n",
              "      --hover-fill-color: #FFFFFF;\n",
              "      --disabled-bg-color: #3B4455;\n",
              "      --disabled-fill-color: #666;\n",
              "  }\n",
              "\n",
              "  .colab-df-quickchart {\n",
              "    background-color: var(--bg-color);\n",
              "    border: none;\n",
              "    border-radius: 50%;\n",
              "    cursor: pointer;\n",
              "    display: none;\n",
              "    fill: var(--fill-color);\n",
              "    height: 32px;\n",
              "    padding: 0;\n",
              "    width: 32px;\n",
              "  }\n",
              "\n",
              "  .colab-df-quickchart:hover {\n",
              "    background-color: var(--hover-bg-color);\n",
              "    box-shadow: 0 1px 2px rgba(60, 64, 67, 0.3), 0 1px 3px 1px rgba(60, 64, 67, 0.15);\n",
              "    fill: var(--button-hover-fill-color);\n",
              "  }\n",
              "\n",
              "  .colab-df-quickchart-complete:disabled,\n",
              "  .colab-df-quickchart-complete:disabled:hover {\n",
              "    background-color: var(--disabled-bg-color);\n",
              "    fill: var(--disabled-fill-color);\n",
              "    box-shadow: none;\n",
              "  }\n",
              "\n",
              "  .colab-df-spinner {\n",
              "    border: 2px solid var(--fill-color);\n",
              "    border-color: transparent;\n",
              "    border-bottom-color: var(--fill-color);\n",
              "    animation:\n",
              "      spin 1s steps(1) infinite;\n",
              "  }\n",
              "\n",
              "  @keyframes spin {\n",
              "    0% {\n",
              "      border-color: transparent;\n",
              "      border-bottom-color: var(--fill-color);\n",
              "      border-left-color: var(--fill-color);\n",
              "    }\n",
              "    20% {\n",
              "      border-color: transparent;\n",
              "      border-left-color: var(--fill-color);\n",
              "      border-top-color: var(--fill-color);\n",
              "    }\n",
              "    30% {\n",
              "      border-color: transparent;\n",
              "      border-left-color: var(--fill-color);\n",
              "      border-top-color: var(--fill-color);\n",
              "      border-right-color: var(--fill-color);\n",
              "    }\n",
              "    40% {\n",
              "      border-color: transparent;\n",
              "      border-right-color: var(--fill-color);\n",
              "      border-top-color: var(--fill-color);\n",
              "    }\n",
              "    60% {\n",
              "      border-color: transparent;\n",
              "      border-right-color: var(--fill-color);\n",
              "    }\n",
              "    80% {\n",
              "      border-color: transparent;\n",
              "      border-right-color: var(--fill-color);\n",
              "      border-bottom-color: var(--fill-color);\n",
              "    }\n",
              "    90% {\n",
              "      border-color: transparent;\n",
              "      border-bottom-color: var(--fill-color);\n",
              "    }\n",
              "  }\n",
              "</style>\n",
              "\n",
              "  <script>\n",
              "    async function quickchart(key) {\n",
              "      const quickchartButtonEl =\n",
              "        document.querySelector('#' + key + ' button');\n",
              "      quickchartButtonEl.disabled = true;  // To prevent multiple clicks.\n",
              "      quickchartButtonEl.classList.add('colab-df-spinner');\n",
              "      try {\n",
              "        const charts = await google.colab.kernel.invokeFunction(\n",
              "            'suggestCharts', [key], {});\n",
              "      } catch (error) {\n",
              "        console.error('Error during call to suggestCharts:', error);\n",
              "      }\n",
              "      quickchartButtonEl.classList.remove('colab-df-spinner');\n",
              "      quickchartButtonEl.classList.add('colab-df-quickchart-complete');\n",
              "    }\n",
              "    (() => {\n",
              "      let quickchartButtonEl =\n",
              "        document.querySelector('#df-30323b73-b20a-4af8-accd-d28a4e2324e4 button');\n",
              "      quickchartButtonEl.style.display =\n",
              "        google.colab.kernel.accessAllowed ? 'block' : 'none';\n",
              "    })();\n",
              "  </script>\n",
              "</div>\n",
              "\n",
              "  <div id=\"id_e74d1641-ab18-4fb5-81e5-004735c69601\">\n",
              "    <style>\n",
              "      .colab-df-generate {\n",
              "        background-color: #E8F0FE;\n",
              "        border: none;\n",
              "        border-radius: 50%;\n",
              "        cursor: pointer;\n",
              "        display: none;\n",
              "        fill: #1967D2;\n",
              "        height: 32px;\n",
              "        padding: 0 0 0 0;\n",
              "        width: 32px;\n",
              "      }\n",
              "\n",
              "      .colab-df-generate:hover {\n",
              "        background-color: #E2EBFA;\n",
              "        box-shadow: 0px 1px 2px rgba(60, 64, 67, 0.3), 0px 1px 3px 1px rgba(60, 64, 67, 0.15);\n",
              "        fill: #174EA6;\n",
              "      }\n",
              "\n",
              "      [theme=dark] .colab-df-generate {\n",
              "        background-color: #3B4455;\n",
              "        fill: #D2E3FC;\n",
              "      }\n",
              "\n",
              "      [theme=dark] .colab-df-generate:hover {\n",
              "        background-color: #434B5C;\n",
              "        box-shadow: 0px 1px 3px 1px rgba(0, 0, 0, 0.15);\n",
              "        filter: drop-shadow(0px 1px 2px rgba(0, 0, 0, 0.3));\n",
              "        fill: #FFFFFF;\n",
              "      }\n",
              "    </style>\n",
              "    <button class=\"colab-df-generate\" onclick=\"generateWithVariable('df_perfil')\"\n",
              "            title=\"Generate code using this dataframe.\"\n",
              "            style=\"display:none;\">\n",
              "\n",
              "  <svg xmlns=\"http://www.w3.org/2000/svg\" height=\"24px\"viewBox=\"0 0 24 24\"\n",
              "       width=\"24px\">\n",
              "    <path d=\"M7,19H8.4L18.45,9,17,7.55,7,17.6ZM5,21V16.75L18.45,3.32a2,2,0,0,1,2.83,0l1.4,1.43a1.91,1.91,0,0,1,.58,1.4,1.91,1.91,0,0,1-.58,1.4L9.25,21ZM18.45,9,17,7.55Zm-12,3A5.31,5.31,0,0,0,4.9,8.1,5.31,5.31,0,0,0,1,6.5,5.31,5.31,0,0,0,4.9,4.9,5.31,5.31,0,0,0,6.5,1,5.31,5.31,0,0,0,8.1,4.9,5.31,5.31,0,0,0,12,6.5,5.46,5.46,0,0,0,6.5,12Z\"/>\n",
              "  </svg>\n",
              "    </button>\n",
              "    <script>\n",
              "      (() => {\n",
              "      const buttonEl =\n",
              "        document.querySelector('#id_e74d1641-ab18-4fb5-81e5-004735c69601 button.colab-df-generate');\n",
              "      buttonEl.style.display =\n",
              "        google.colab.kernel.accessAllowed ? 'block' : 'none';\n",
              "\n",
              "      buttonEl.onclick = () => {\n",
              "        google.colab.notebook.generateWithVariable('df_perfil');\n",
              "      }\n",
              "      })();\n",
              "    </script>\n",
              "  </div>\n",
              "\n",
              "    </div>\n",
              "  </div>\n"
            ],
            "application/vnd.google.colaboratory.intrinsic+json": {
              "type": "dataframe",
              "variable_name": "df_perfil",
              "summary": "{\n  \"name\": \"df_perfil\",\n  \"rows\": 17,\n  \"fields\": [\n    {\n      \"column\": \"**Perfil do P\\u00fablico-Alvo do Conte\\u00fado de Culin\\u00e1ria nas Redes Sociais no Brasil**\",\n      \"properties\": {\n        \"dtype\": \"number\",\n        \"std\": null,\n        \"min\": null,\n        \"max\": null,\n        \"num_unique_values\": 0,\n        \"samples\": [],\n        \"semantic_type\": \"\",\n        \"description\": \"\"\n      }\n    }\n  ]\n}"
            }
          },
          "metadata": {}
        }
      ]
    },
    {
      "cell_type": "code",
      "source": [
        "prompt = f\"\"\"\n",
        "Liste 5 maiores dificuldades das pessoas quando o assunto é  {tipo_de_conteudo}. Não precisa ser uma resposta longa./n/n\n",
        "Liste 5 medos que pessoas com o pefil ideal possuem. Não precisa ser uma resposta longa./n/n\n",
        "Liste 5 desejos que pessoas com o pefil ideal possuem. Não precisa ser uma resposta longa./n/n\n",
        "Liste 5 objeções que pessoas com o pefil ideal possuem. Não precisa ser uma resposta longa.\n",
        "\"\"\"\n",
        "print(prompt)"
      ],
      "metadata": {
        "id": "ysC4xw-izNcE"
      },
      "execution_count": null,
      "outputs": []
    },
    {
      "cell_type": "code",
      "source": [
        "prompt = \"A partir de agora eu quero você aja como um grande especialista em social mídia, seu trabalho é utilizar as informações que geramos anteriormente para criar ideias de tipos de posts, palavras-chave, termos de pesquisa, headlines e conteúdos./n/n Levando em consideração tudo acima e o fato de que tenho um perfil nas redes sociais e quero aumentar minha audiência e seguidores engajados. Preciso que crie 5 conteúdos para Youtube com script do vídeo, descrição que tenha um boa performance nos mecanismos de busca do google, com # e Headline chamativa.\"\n",
        "response = model.generate_content(prompt)\n",
        "print(response.text)"
      ],
      "metadata": {
        "colab": {
          "base_uri": "https://localhost:8080/",
          "height": 1000
        },
        "id": "qtKSJCu-vXFV",
        "outputId": "2489449a-fc63-43b7-8b99-e43563c44fd9"
      },
      "execution_count": 18,
      "outputs": [
        {
          "output_type": "stream",
          "name": "stdout",
          "text": [
            "**Vídeo 1:**\n",
            "\n",
            "**Título:** O Segredo para Criar Conteúdo Viral que Explode sua Audiência\n",
            "\n",
            "**Descrição:**\n",
            "\n",
            "Descubra os segredos dos criadores de conteúdo mais bem-sucedidos para criar conteúdo viral que atraia e envolva seu público. Aprenda as técnicas de pesquisa de tópicos, criação de manchetes e otimização de mecanismos de pesquisa que impulsionarão seu conteúdo para o topo.\n",
            "\n",
            "**#:** #MarketingdeConteúdo #ConteúdoViral #MarketingnasMídiasSociais\n",
            "\n",
            "**Script:**\n",
            "\n",
            "* Introdução: Olá espectadores! Você está pronto para aprender o segredo de criar conteúdo viral que exploda sua audiência?\n",
            "* Seção 1: Pesquisa de Tópicos - Use ferramentas como o Google Trends e o BuzzSumo para identificar tópicos populares e tendências.\n",
            "* Seção 2: Criação de Manchetes - Escreva manchetes cativantes que despertem curiosidade e gerem cliques.\n",
            "* Seção 3: Otimização de SEO - Otimize seus vídeos para palavras-chave relevantes para aumentar sua visibilidade nos resultados de pesquisa.\n",
            "* Conclusão: Implemente essas estratégias para criar conteúdo viral que cative seu público e aumente sua base de seguidores.\n",
            "\n",
            "**Vídeo 2:**\n",
            "\n",
            "**Título:** Como Usar o Instagram para Construir uma Comunidade Envolvida\n",
            "\n",
            "**Descrição:**\n",
            "\n",
            "Você está lutando para construir uma comunidade engajada no Instagram? Aprenda as estratégias eficazes usadas por influenciadores e marcas para aumentar seus seguidores, impulsionar o engajamento e construir relacionamentos duradouros.\n",
            "\n",
            "**#:** #MarketingnoInstagram #EngajamentonoInstagram #ComunidadeOnline\n",
            "\n",
            "**Script:**\n",
            "\n",
            "* Introdução: Bem-vindo ao guia definitivo para construir uma comunidade envolvida no Instagram.\n",
            "* Seção 1: Criação de Conteúdo Envolvente - Publique conteúdo interessante, informativo e inspirador que ressoe com seu público.\n",
            "* Seção 2: Uso de Hashtags e Localizações - Use hashtags e localizações relevantes para aumentar o alcance de suas postagens.\n",
            "* Seção 3: Interação com Seus Seguidores - Responda a comentários, envie mensagens diretas e realize concursos para construir relacionamentos.\n",
            "* Conclusão: Ao implementar essas estratégias, você pode transformar seu perfil do Instagram em uma comunidade vibrante e engajada.\n",
            "\n",
            "**Vídeo 3:**\n",
            "\n",
            "**Título:** A Arte de Contar Histórias em Marketing: Como Criar Narrativas Impactantes\n",
            "\n",
            "**Descrição:**\n",
            "\n",
            "Aprenda a arte de contar histórias em marketing. Descubra como criar narrativas convincentes que cativem seu público, construam conexões emocionais e inspirem ações.\n",
            "\n",
            "**#:** #MarketingNarrativo #Storytelling #ConexãoEmocional\n",
            "\n",
            "**Script:**\n",
            "\n",
            "* Introdução: Bem-vindos à jornada do marketing narrativo. Vamos explorar como usar histórias para se conectar com seu público.\n",
            "* Seção 1: O Poder das Histórias - Entenda o poder de contar histórias e seu impacto na tomada de decisão do consumidor.\n",
            "* Seção 2: Estrutura de Narrativa - Aprenda os elementos essenciais de uma narrativa eficaz, incluindo começo, conflito, clímax e resolução.\n",
            "* Seção 3: Técnicas de Contação de Histórias - Conheça técnicas como o método STAR e o uso de metáforas para tornar suas histórias impactantes.\n",
            "* Conclusão: Torne-se um mestre em marketing narrativo e use o poder das histórias para construir relacionamentos duradouros com seu público.\n",
            "\n",
            "**Vídeo 4:**\n",
            "\n",
            "**Título:** Otimização de SEO para Marketing nas Mídias Sociais: Domine os Algoritmos\n",
            "\n",
            "**Descrição:**\n",
            "\n",
            "Descubra os segredos da otimização de SEO para marketing nas mídias sociais. Aprenda como otimizar seu conteúdo, construir backlinks e usar ferramentas de análise para melhorar sua visibilidade online e alcançar mais clientes em potencial.\n",
            "\n",
            "**#:** #SEONasMídiasSociais #OtimizaçãoDeConteúdo #AlgoritmosDeMídiasSociais\n",
            "\n",
            "**Script:**\n",
            "\n",
            "* Introdução: Bem-vindos ao mundo da otimização de SEO para marketing nas mídias sociais. Vamos desvendar os segredos para dominar os algoritmos.\n",
            "* Seção 1: Palavras-chave e Hashtags - Identifique e use palavras-chave e hashtags relevantes para aumentar a visibilidade de suas postagens.\n",
            "* Seção 2: Título e Descrição - Otimize seus títulos e descrições usando palavras-chave direcionadas para melhor classificação nos resultados de pesquisa.\n",
            "* Seção 3: Uso de Backlinks - Construa backlinks de alta qualidade para aumentar a credibilidade e a autoridade de seu site e conteúdo.\n",
            "* Conclusão: Implementando essas estratégias de SEO, você pode melhorar significativamente a visibilidade de suas mídias sociais e alcançar mais clientes em potencial.\n",
            "\n",
            "**Vídeo 5:**\n",
            "\n",
            "**Título:** Marketing de Influência: Parcerias Poderosas para Ampliar seu Alcance\n",
            "\n",
            "**Descrição:**\n",
            "\n",
            "Entenda o poder do marketing de influência. Aprenda como identificar e colaborar com influenciadores relevantes para ampliar seu alcance, aumentar a credibilidade e gerar leads.\n",
            "\n",
            "**#:** #MarketingDeInfluência #ParceriasComInfluenciadores #AmplificaçãoDeAlcance\n",
            "\n",
            "**Script:**\n",
            "\n",
            "* Introdução: Bem-vindos ao mundo do marketing de influência. Vamos explorar o potencial de parcerias com influenciadores para expandir seu alcance.\n",
            "* Seção 1: Identificando Influenciadores - Use ferramentas de pesquisa e plataformas de marketing de influenciadores para identificar influenciadores alinhados com sua marca.\n",
            "* Seção 2: Construindo Relacionamentos - Estabeleça relacionamentos genuínos com influenciadores, oferecendo valor e apoio.\n",
            "* Seção 3: Campanhas de Marketing - Desenvolva campanhas de marketing conjuntas que aproveitem o alcance do influenciador e a credibilidade de sua marca.\n",
            "* Conclusão: Ao dominar o marketing de influência, você pode expandir significativamente seu alcance, construir credibilidade e impulsionar o crescimento de seus negócios.\n"
          ]
        }
      ]
    }
  ]
}